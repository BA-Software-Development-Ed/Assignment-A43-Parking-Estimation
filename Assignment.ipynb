{
 "cells": [
  {
   "cell_type": "markdown",
   "metadata": {},
   "source": [
    "# Assignment A4.3 - Parking Estimation\n",
    "_Subject,_ **Artificial Intelligence**  \n",
    "_Topic,_ **Machine Learning**  \n",
    "_Subtopic,_ **Supervised Machine Learning: Regression**  \n",
    "\n",
    "## Resources\n",
    "- #### [xlsx file at GitHub](https://github.com/datsoftlyngby/soft2020spring-AI/blob/master/docs/data/parking-estimation.xlsx)\n",
    "- #### [Youtube Tutorial](https://www.youtube.com/watch?v=J_LnPL3Qg70)\n",
    "\n",
    "## Content\n",
    "- #### [Prepare Enviroment](#Prepare-Enviroment)\n",
    "- #### [Prepare Data](#Prepare-Data)\n",
    "- #### [Preprocess Data](#Preprocess-Data)\n",
    "- #### [Regression Model](#Regression-Model)\n",
    "\n",
    "## Assignment\n",
    "..."
   ]
  },
  {
   "cell_type": "markdown",
   "metadata": {},
   "source": [
    "## Prepare Environment\n",
    "---"
   ]
  },
  {
   "cell_type": "code",
   "execution_count": 9,
   "metadata": {},
   "outputs": [],
   "source": [
    "import numpy as np\n",
    "import pandas as pd\n",
    "\n",
    "from sklearn.model_selection import train_test_split\n",
    "from sklearn import linear_model\n",
    "from sklearn.preprocessing import PolynomialFeatures\n",
    "from sklearn import metrics as sm\n",
    "\n",
    "import matplotlib.pyplot as plt\n",
    "import seaborn as sns\n",
    "%matplotlib inline"
   ]
  },
  {
   "cell_type": "markdown",
   "metadata": {},
   "source": [
    "## Prepare Data\n",
    "---"
   ]
  },
  {
   "cell_type": "markdown",
   "metadata": {},
   "source": [
    "### Reading xlsx file"
   ]
  },
  {
   "cell_type": "code",
   "execution_count": 10,
   "metadata": {},
   "outputs": [
    {
     "data": {
      "text/html": "<div>\n<style scoped>\n    .dataframe tbody tr th:only-of-type {\n        vertical-align: middle;\n    }\n\n    .dataframe tbody tr th {\n        vertical-align: top;\n    }\n\n    .dataframe thead th {\n        text-align: right;\n    }\n</style>\n<table border=\"1\" class=\"dataframe\">\n  <thead>\n    <tr style=\"text-align: right;\">\n      <th></th>\n      <th>Unnamed: 0</th>\n      <th>Demand estimation using linear regression</th>\n      <th>Unnamed: 2</th>\n      <th>Unnamed: 3</th>\n      <th>Unnamed: 4</th>\n      <th>Unnamed: 5</th>\n    </tr>\n  </thead>\n  <tbody>\n    <tr>\n      <th>0</th>\n      <td>NaN</td>\n      <td>NaN</td>\n      <td>NaN</td>\n      <td>NaN</td>\n      <td>NaN</td>\n      <td>NaN</td>\n    </tr>\n    <tr>\n      <th>1</th>\n      <td>NaN</td>\n      <td>Y</td>\n      <td>X1</td>\n      <td>X2</td>\n      <td>X3</td>\n      <td>X4</td>\n    </tr>\n    <tr>\n      <th>2</th>\n      <td>City</td>\n      <td>Number of weekly riders</td>\n      <td>Price per week</td>\n      <td>Population of city</td>\n      <td>Monthly income of riders</td>\n      <td>Average parking rates per month</td>\n    </tr>\n    <tr>\n      <th>3</th>\n      <td>1</td>\n      <td>192000</td>\n      <td>15</td>\n      <td>1800000</td>\n      <td>5800</td>\n      <td>50</td>\n    </tr>\n    <tr>\n      <th>4</th>\n      <td>2</td>\n      <td>190400</td>\n      <td>15</td>\n      <td>1790000</td>\n      <td>6200</td>\n      <td>50</td>\n    </tr>\n  </tbody>\n</table>\n</div>",
      "text/plain": "  Unnamed: 0 Demand estimation using linear regression      Unnamed: 2  \\\n0        NaN                                       NaN             NaN   \n1        NaN                                         Y              X1   \n2      City                    Number of weekly riders  Price per week   \n3          1                                    192000              15   \n4          2                                    190400              15   \n\n           Unnamed: 3                Unnamed: 4  \\\n0                 NaN                       NaN   \n1                  X2                        X3   \n2  Population of city  Monthly income of riders   \n3             1800000                      5800   \n4             1790000                      6200   \n\n                        Unnamed: 5  \n0                              NaN  \n1                               X4  \n2  Average parking rates per month  \n3                               50  \n4                               50  "
     },
     "execution_count": 10,
     "metadata": {},
     "output_type": "execute_result"
    }
   ],
   "source": [
    "# Input file containing data\n",
    "file_path = 'data-assets/parking-estimation.xlsx'\n",
    "df = pd.read_excel(file_path)\n",
    "df.head()"
   ]
  },
  {
   "cell_type": "markdown",
   "metadata": {},
   "source": [
    "### Defining colunms"
   ]
  },
  {
   "cell_type": "code",
   "execution_count": 11,
   "metadata": {},
   "outputs": [
    {
     "data": {
      "text/html": "<div>\n<style scoped>\n    .dataframe tbody tr th:only-of-type {\n        vertical-align: middle;\n    }\n\n    .dataframe tbody tr th {\n        vertical-align: top;\n    }\n\n    .dataframe thead th {\n        text-align: right;\n    }\n</style>\n<table border=\"1\" class=\"dataframe\">\n  <thead>\n    <tr style=\"text-align: right;\">\n      <th>2</th>\n      <th>City</th>\n      <th>Number of weekly riders</th>\n      <th>Price per week</th>\n      <th>Population of city</th>\n      <th>Monthly income of riders</th>\n      <th>Average parking rates per month</th>\n    </tr>\n  </thead>\n  <tbody>\n    <tr>\n      <th>0</th>\n      <td>NaN</td>\n      <td>NaN</td>\n      <td>NaN</td>\n      <td>NaN</td>\n      <td>NaN</td>\n      <td>NaN</td>\n    </tr>\n    <tr>\n      <th>1</th>\n      <td>NaN</td>\n      <td>Y</td>\n      <td>X1</td>\n      <td>X2</td>\n      <td>X3</td>\n      <td>X4</td>\n    </tr>\n    <tr>\n      <th>2</th>\n      <td>City</td>\n      <td>Number of weekly riders</td>\n      <td>Price per week</td>\n      <td>Population of city</td>\n      <td>Monthly income of riders</td>\n      <td>Average parking rates per month</td>\n    </tr>\n    <tr>\n      <th>3</th>\n      <td>1</td>\n      <td>192000</td>\n      <td>15</td>\n      <td>1800000</td>\n      <td>5800</td>\n      <td>50</td>\n    </tr>\n    <tr>\n      <th>4</th>\n      <td>2</td>\n      <td>190400</td>\n      <td>15</td>\n      <td>1790000</td>\n      <td>6200</td>\n      <td>50</td>\n    </tr>\n  </tbody>\n</table>\n</div>",
      "text/plain": "2  City   Number of weekly riders  Price per week  Population of city  \\\n0    NaN                      NaN             NaN                 NaN   \n1    NaN                        Y              X1                  X2   \n2  City   Number of weekly riders  Price per week  Population of city   \n3      1                   192000              15             1800000   \n4      2                   190400              15             1790000   \n\n2  Monthly income of riders  Average parking rates per month  \n0                       NaN                              NaN  \n1                        X3                               X4  \n2  Monthly income of riders  Average parking rates per month  \n3                      5800                               50  \n4                      6200                               50  "
     },
     "execution_count": 11,
     "metadata": {},
     "output_type": "execute_result"
    }
   ],
   "source": [
    "# Define columns\n",
    "df.columns = df.iloc[2]\n",
    "df.head()"
   ]
  },
  {
   "cell_type": "markdown",
   "metadata": {},
   "source": [
    "### Remove unnedded rows"
   ]
  },
  {
   "cell_type": "code",
   "execution_count": 12,
   "metadata": {},
   "outputs": [
    {
     "data": {
      "text/html": "<div>\n<style scoped>\n    .dataframe tbody tr th:only-of-type {\n        vertical-align: middle;\n    }\n\n    .dataframe tbody tr th {\n        vertical-align: top;\n    }\n\n    .dataframe thead th {\n        text-align: right;\n    }\n</style>\n<table border=\"1\" class=\"dataframe\">\n  <thead>\n    <tr style=\"text-align: right;\">\n      <th>2</th>\n      <th>City</th>\n      <th>Number of weekly riders</th>\n      <th>Price per week</th>\n      <th>Population of city</th>\n      <th>Monthly income of riders</th>\n      <th>Average parking rates per month</th>\n    </tr>\n  </thead>\n  <tbody>\n    <tr>\n      <th>3</th>\n      <td>1</td>\n      <td>192000</td>\n      <td>15</td>\n      <td>1800000</td>\n      <td>5800</td>\n      <td>50</td>\n    </tr>\n    <tr>\n      <th>4</th>\n      <td>2</td>\n      <td>190400</td>\n      <td>15</td>\n      <td>1790000</td>\n      <td>6200</td>\n      <td>50</td>\n    </tr>\n    <tr>\n      <th>5</th>\n      <td>3</td>\n      <td>191200</td>\n      <td>15</td>\n      <td>1780000</td>\n      <td>6400</td>\n      <td>60</td>\n    </tr>\n    <tr>\n      <th>6</th>\n      <td>4</td>\n      <td>177600</td>\n      <td>25</td>\n      <td>1778000</td>\n      <td>6500</td>\n      <td>60</td>\n    </tr>\n    <tr>\n      <th>7</th>\n      <td>5</td>\n      <td>176800</td>\n      <td>25</td>\n      <td>1750000</td>\n      <td>6550</td>\n      <td>60</td>\n    </tr>\n  </tbody>\n</table>\n</div>",
      "text/plain": "2 City  Number of weekly riders Price per week Population of city  \\\n3     1                  192000             15            1800000   \n4     2                  190400             15            1790000   \n5     3                  191200             15            1780000   \n6     4                  177600             25            1778000   \n7     5                  176800             25            1750000   \n\n2 Monthly income of riders Average parking rates per month  \n3                     5800                              50  \n4                     6200                              50  \n5                     6400                              60  \n6                     6500                              60  \n7                     6550                              60  "
     },
     "execution_count": 12,
     "metadata": {},
     "output_type": "execute_result"
    }
   ],
   "source": [
    "# Remove unnedded rows\n",
    "df = df.drop(df.index[0:3])\n",
    "df.head()"
   ]
  },
  {
   "cell_type": "markdown",
   "metadata": {},
   "source": [
    "### Not Documented"
   ]
  },
  {
   "cell_type": "code",
   "execution_count": 13,
   "metadata": {},
   "outputs": [
    {
     "data": {
      "text/html": "<div>\n<style scoped>\n    .dataframe tbody tr th:only-of-type {\n        vertical-align: middle;\n    }\n\n    .dataframe tbody tr th {\n        vertical-align: top;\n    }\n\n    .dataframe thead th {\n        text-align: right;\n    }\n</style>\n<table border=\"1\" class=\"dataframe\">\n  <thead>\n    <tr style=\"text-align: right;\">\n      <th>2</th>\n      <th>City</th>\n      <th>Number of weekly riders</th>\n      <th>Price per week</th>\n      <th>Population of city</th>\n      <th>Monthly income of riders</th>\n      <th>Average parking rates per month</th>\n    </tr>\n  </thead>\n  <tbody>\n    <tr>\n      <th>26</th>\n      <td>24</td>\n      <td>123888</td>\n      <td>98</td>\n      <td>1595000</td>\n      <td>15200</td>\n      <td>175</td>\n    </tr>\n    <tr>\n      <th>27</th>\n      <td>25</td>\n      <td>126080</td>\n      <td>87</td>\n      <td>1590000</td>\n      <td>15600</td>\n      <td>175</td>\n    </tr>\n    <tr>\n      <th>28</th>\n      <td>26</td>\n      <td>151680</td>\n      <td>77</td>\n      <td>1600000</td>\n      <td>16000</td>\n      <td>190</td>\n    </tr>\n    <tr>\n      <th>29</th>\n      <td>27</td>\n      <td>152800</td>\n      <td>63</td>\n      <td>1610000</td>\n      <td>16200</td>\n      <td>200</td>\n    </tr>\n    <tr>\n      <th>30</th>\n      <td>average</td>\n      <td>160026</td>\n      <td>49.9259</td>\n      <td>NaN</td>\n      <td>NaN</td>\n      <td>NaN</td>\n    </tr>\n  </tbody>\n</table>\n</div>",
      "text/plain": "2     City  Number of weekly riders Price per week Population of city  \\\n26       24                  123888             98            1595000   \n27       25                  126080             87            1590000   \n28       26                  151680             77            1600000   \n29       27                  152800             63            1610000   \n30  average                  160026        49.9259                NaN   \n\n2  Monthly income of riders Average parking rates per month  \n26                    15200                             175  \n27                    15600                             175  \n28                    16000                             190  \n29                    16200                             200  \n30                      NaN                             NaN  "
     },
     "execution_count": 13,
     "metadata": {},
     "output_type": "execute_result"
    }
   ],
   "source": [
    "df.tail()"
   ]
  },
  {
   "cell_type": "markdown",
   "metadata": {},
   "source": [
    "### Not Documented"
   ]
  },
  {
   "cell_type": "code",
   "execution_count": 14,
   "metadata": {},
   "outputs": [
    {
     "data": {
      "text/html": "<div>\n<style scoped>\n    .dataframe tbody tr th:only-of-type {\n        vertical-align: middle;\n    }\n\n    .dataframe tbody tr th {\n        vertical-align: top;\n    }\n\n    .dataframe thead th {\n        text-align: right;\n    }\n</style>\n<table border=\"1\" class=\"dataframe\">\n  <thead>\n    <tr style=\"text-align: right;\">\n      <th>2</th>\n      <th>City</th>\n      <th>Number of weekly riders</th>\n      <th>Price per week</th>\n      <th>Population of city</th>\n      <th>Monthly income of riders</th>\n      <th>Average parking rates per month</th>\n    </tr>\n  </thead>\n  <tbody>\n    <tr>\n      <th>25</th>\n      <td>23</td>\n      <td>126240</td>\n      <td>86</td>\n      <td>1590000</td>\n      <td>15000</td>\n      <td>165</td>\n    </tr>\n    <tr>\n      <th>26</th>\n      <td>24</td>\n      <td>123888</td>\n      <td>98</td>\n      <td>1595000</td>\n      <td>15200</td>\n      <td>175</td>\n    </tr>\n    <tr>\n      <th>27</th>\n      <td>25</td>\n      <td>126080</td>\n      <td>87</td>\n      <td>1590000</td>\n      <td>15600</td>\n      <td>175</td>\n    </tr>\n    <tr>\n      <th>28</th>\n      <td>26</td>\n      <td>151680</td>\n      <td>77</td>\n      <td>1600000</td>\n      <td>16000</td>\n      <td>190</td>\n    </tr>\n    <tr>\n      <th>29</th>\n      <td>27</td>\n      <td>152800</td>\n      <td>63</td>\n      <td>1610000</td>\n      <td>16200</td>\n      <td>200</td>\n    </tr>\n  </tbody>\n</table>\n</div>",
      "text/plain": "2  City  Number of weekly riders Price per week Population of city  \\\n25    23                  126240             86            1590000   \n26    24                  123888             98            1595000   \n27    25                  126080             87            1590000   \n28    26                  151680             77            1600000   \n29    27                  152800             63            1610000   \n\n2  Monthly income of riders Average parking rates per month  \n25                    15000                             165  \n26                    15200                             175  \n27                    15600                             175  \n28                    16000                             190  \n29                    16200                             200  "
     },
     "execution_count": 14,
     "metadata": {},
     "output_type": "execute_result"
    }
   ],
   "source": [
    "# Remove average row\n",
    "df = df.drop(df.index[-1])\n",
    "df.tail()"
   ]
  },
  {
   "cell_type": "markdown",
   "metadata": {},
   "source": [
    "### Not Documented"
   ]
  },
  {
   "cell_type": "code",
   "execution_count": 15,
   "metadata": {},
   "outputs": [
    {
     "data": {
      "text/html": "<div>\n<style scoped>\n    .dataframe tbody tr th:only-of-type {\n        vertical-align: middle;\n    }\n\n    .dataframe tbody tr th {\n        vertical-align: top;\n    }\n\n    .dataframe thead th {\n        text-align: right;\n    }\n</style>\n<table border=\"1\" class=\"dataframe\">\n  <thead>\n    <tr style=\"text-align: right;\">\n      <th>2</th>\n      <th>City</th>\n      <th>Number of weekly riders</th>\n      <th>Price per week</th>\n      <th>Population of city</th>\n      <th>Monthly income of riders</th>\n      <th>Average parking rates per month</th>\n    </tr>\n  </thead>\n  <tbody>\n    <tr>\n      <th>count</th>\n      <td>27</td>\n      <td>27</td>\n      <td>27</td>\n      <td>27</td>\n      <td>27</td>\n      <td>27</td>\n    </tr>\n    <tr>\n      <th>unique</th>\n      <td>27</td>\n      <td>26</td>\n      <td>13</td>\n      <td>23</td>\n      <td>27</td>\n      <td>17</td>\n    </tr>\n    <tr>\n      <th>top</th>\n      <td>27</td>\n      <td>161600</td>\n      <td>40</td>\n      <td>1590000</td>\n      <td>14010</td>\n      <td>75</td>\n    </tr>\n    <tr>\n      <th>freq</th>\n      <td>1</td>\n      <td>2</td>\n      <td>5</td>\n      <td>2</td>\n      <td>1</td>\n      <td>3</td>\n    </tr>\n  </tbody>\n</table>\n</div>",
      "text/plain": "2       City   Number of weekly riders  Price per week  Population of city  \\\ncount      27                       27              27                  27   \nunique     27                       26              13                  23   \ntop        27                   161600              40             1590000   \nfreq        1                        2               5                   2   \n\n2       Monthly income of riders  Average parking rates per month  \ncount                         27                               27  \nunique                        27                               17  \ntop                        14010                               75  \nfreq                           1                                3  "
     },
     "execution_count": 15,
     "metadata": {},
     "output_type": "execute_result"
    }
   ],
   "source": [
    "df.describe()"
   ]
  },
  {
   "cell_type": "markdown",
   "metadata": {},
   "source": [
    "### Not Documented"
   ]
  },
  {
   "cell_type": "code",
   "execution_count": 16,
   "metadata": {},
   "outputs": [
    {
     "data": {
      "text/plain": "['City ',\n 'Number of weekly riders',\n 'Price per week',\n 'Population of city',\n 'Monthly income of riders',\n 'Average parking rates per month']"
     },
     "execution_count": 16,
     "metadata": {},
     "output_type": "execute_result"
    }
   ],
   "source": [
    "# Displays the attribute labels\n",
    "list(df)"
   ]
  },
  {
   "cell_type": "markdown",
   "metadata": {},
   "source": [
    "### Not Documented"
   ]
  },
  {
   "cell_type": "code",
   "execution_count": 17,
   "metadata": {},
   "outputs": [
    {
     "name": "stdout",
     "output_type": "stream",
     "text": "<class 'pandas.core.frame.DataFrame'>\nInt64Index: 27 entries, 3 to 29\nData columns (total 6 columns):\n #   Column                           Non-Null Count  Dtype\n---  ------                           --------------  -----\n 0   City                             27 non-null     int64\n 1   Number of weekly riders          27 non-null     int64\n 2   Price per week                   27 non-null     int64\n 3   Population of city               27 non-null     int64\n 4   Monthly income of riders         27 non-null     int64\n 5   Average parking rates per month  27 non-null     int64\ndtypes: int64(6)\nmemory usage: 1.5 KB\n"
    }
   ],
   "source": [
    "df = df.apply(pd.to_numeric)\n",
    "df.info()"
   ]
  },
  {
   "cell_type": "markdown",
   "metadata": {},
   "source": [
    "## Preprocess Data"
   ]
  },
  {
   "cell_type": "code",
   "execution_count": 19,
   "metadata": {},
   "outputs": [],
   "source": [
    "# split the set into subsets for training and testing\n",
    "train_data, test_data = train_test_split(df, train_size =0.8, random_state = 3)"
   ]
  },
  {
   "cell_type": "markdown",
   "metadata": {},
   "source": [
    "### Not Documented"
   ]
  },
  {
   "cell_type": "code",
   "execution_count": 20,
   "metadata": {},
   "outputs": [],
   "source": [
    "targets = list(df)\n",
    "\n",
    "x_train = np.array(train_data[targets[:-1]])\n",
    "y_train = np.array(train_data[targets[-1]])\n",
    "\n",
    "x_test = np.array(test_data[targets[:-1]])\n",
    "y_test = np.array(test_data[targets[-1]])"
   ]
  },
  {
   "cell_type": "markdown",
   "metadata": {},
   "source": [
    "## Regression Model\n",
    "---"
   ]
  },
  {
   "cell_type": "markdown",
   "metadata": {},
   "source": [
    "### Train Model"
   ]
  },
  {
   "cell_type": "code",
   "execution_count": 21,
   "metadata": {},
   "outputs": [
    {
     "data": {
      "text/plain": "LinearRegression(copy_X=True, fit_intercept=True, n_jobs=None, normalize=False)"
     },
     "execution_count": 21,
     "metadata": {},
     "output_type": "execute_result"
    }
   ],
   "source": [
    "reg = linear_model.LinearRegression()\n",
    "reg.fit(x_train, y_train)"
   ]
  },
  {
   "cell_type": "markdown",
   "metadata": {},
   "source": [
    "### Model Accuracy"
   ]
  },
  {
   "cell_type": "code",
   "execution_count": 22,
   "metadata": {},
   "outputs": [
    {
     "data": {
      "text/plain": "0.7559728933080729"
     },
     "execution_count": 22,
     "metadata": {},
     "output_type": "execute_result"
    }
   ],
   "source": [
    "score = reg.score(x_test, y_test)\n",
    "score"
   ]
  },
  {
   "cell_type": "markdown",
   "metadata": {},
   "source": [
    "### Test Model"
   ]
  },
  {
   "cell_type": "code",
   "execution_count": null,
   "metadata": {},
   "outputs": [],
   "source": [
    "test_data = [23, 126240, 86, 1590000, 15000]\n",
    "prediction = reg.predict(test_data)\n",
    "prediction"
   ]
  },
  {
   "cell_type": "markdown",
   "metadata": {},
   "source": [
    "### Store Model"
   ]
  },
  {
   "cell_type": "code",
   "execution_count": null,
   "metadata": {},
   "outputs": [],
   "source": [
    "reg_model_file = './models/regressor.pkl'\n",
    "\n",
    "# Save now\n",
    "with open(reg_model_file, 'wb') as f:\n",
    "    pickle.dump(regressor, f)"
   ]
  },
  {
   "cell_type": "markdown",
   "metadata": {},
   "source": [
    "### Load Model"
   ]
  },
  {
   "cell_type": "code",
   "execution_count": null,
   "metadata": {},
   "outputs": [],
   "source": [
    "# To load it later for reuse\n",
    "with open(reg_model_file, 'rb') as f:\n",
    "    regressor_model = pickle.load(f)"
   ]
  },
  {
   "cell_type": "markdown",
   "metadata": {},
   "source": [
    "### Use Preloaded Model"
   ]
  },
  {
   "cell_type": "code",
   "execution_count": null,
   "metadata": {},
   "outputs": [],
   "source": [
    "# Test reading from the file\n",
    "my_prediction = regressor_model.predict()\n",
    "print(my_prediction)"
   ]
  }
 ],
 "metadata": {
  "kernelspec": {
   "display_name": "Python 3",
   "language": "python",
   "name": "python3"
  },
  "language_info": {
   "codemirror_mode": {
    "name": "ipython",
    "version": 3
   },
   "file_extension": ".py",
   "mimetype": "text/x-python",
   "name": "python",
   "nbconvert_exporter": "python",
   "pygments_lexer": "ipython3",
   "version": "3.7.4-final"
  }
 },
 "nbformat": 4,
 "nbformat_minor": 2
}